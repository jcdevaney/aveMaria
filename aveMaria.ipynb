{
  "nbformat": 4,
  "nbformat_minor": 0,
  "metadata": {
    "colab": {
      "provenance": [],
      "authorship_tag": "ABX9TyP+rG3UGP3zeKMYpwFUkJl3",
      "include_colab_link": true
    },
    "kernelspec": {
      "name": "python3",
      "display_name": "Python 3"
    },
    "language_info": {
      "name": "python"
    }
  },
  "cells": [
    {
      "cell_type": "markdown",
      "metadata": {
        "id": "view-in-github",
        "colab_type": "text"
      },
      "source": [
        "<a href=\"https://colab.research.google.com/github/jcdevaney/aveMaria/blob/main/aveMaria.ipynb\" target=\"_parent\"><img src=\"https://colab.research.google.com/assets/colab-badge.svg\" alt=\"Open In Colab\"/></a>"
      ]
    },
    {
      "cell_type": "markdown",
      "source": [
        "## Import libraries and data"
      ],
      "metadata": {
        "id": "GEpq5n5PmRTL"
      }
    },
    {
      "cell_type": "code",
      "execution_count": null,
      "metadata": {
        "colab": {
          "base_uri": "https://localhost:8080/"
        },
        "id": "p_K_5UP2AML5",
        "outputId": "51eb22cc-4b85-4ded-8823-dec4e024086b"
      },
      "outputs": [
        {
          "output_type": "stream",
          "name": "stdout",
          "text": [
            "fatal: destination path 'aveMaria' already exists and is not an empty directory.\n"
          ]
        }
      ],
      "source": [
        "import numpy as np\n",
        "import pandas as pd\n",
        "\n",
        "#import csv files\n",
        "!git clone https://github.com/jcdevaney/aveMaria.git"
      ]
    },
    {
      "cell_type": "markdown",
      "source": [
        "## Function to sort data into conditions for the regression analysis"
      ],
      "metadata": {
        "id": "7Du8-OcymVAw"
      }
    },
    {
      "cell_type": "code",
      "source": [
        "def getConditionVals(avm, conditions):\n",
        "\n",
        "    res = {}\n",
        "\n",
        "    for i in range(6):\n",
        "\n",
        "        res = {}\n",
        "\n",
        "        # all semitones\n",
        "        res['allSTupACAP'] = avm[0:3, conditions['STup']]\n",
        "        res['allSTupACCOM'] = avm[3:6, conditions['STup']]\n",
        "        res['allSTdnACAP'] = avm[0:3, conditions['STdn']]\n",
        "        res['allSTdnACCOM'] = avm[3:6, conditions['STdn']]\n",
        " \n",
        "        # semitone conditions\n",
        "        res['ltACAP'] = avm[0:3, conditions['LT']]\n",
        "        res['ltACCOM'] = avm[3:6, conditions['LT']]\n",
        "        res['ABbupACAP'] = avm[0:3, conditions['ABbup']]\n",
        "        res['ABbupACCOM'] = avm[3:6, conditions['ABbup']]\n",
        "        res['ABbdnACAP'] = avm[0:3, conditions['ABbdn']]\n",
        "        res['ABbdnACCOM'] = avm[3:6, conditions['ABbdn']]\n",
        "        res['OSTupACAP'] = avm[0:3, conditions['OSTup']]\n",
        "        res['OSTupACCOM'] = avm[3:6, conditions['OSTup']]\n",
        "        res['OSTdnACAP'] = avm[0:3, conditions['OSTdn']]\n",
        "        res['OSTdnACCOM'] = avm[3:6, conditions['OSTdn']]\n",
        "        res['lsACAP'] = avm[0:3, conditions['STls']]\n",
        "        res['lsACCOM'] = avm[3:6, conditions['STls']]\n",
        "        res['slACAP'] = avm[0:3, conditions['STsl']]\n",
        "        res['slACCOM'] = avm[3:6, conditions['STsl']]\n",
        "        res['eqACAP'] = avm[0:3, conditions['STeq']]\n",
        "        res['eqACCOM'] = avm[3:6, conditions['STeq']]\n",
        "        \n",
        "      #  accomConds = ['ACAP', 'ACCOM']\n",
        "      #  accomIdx = [range(3), range(3, 6)]\n",
        "      #  intCondsST = ['LT', 'ABbup', 'ABbdn', 'OSTup', 'OSTdn']\n",
        "      #  durCondsST = ['STls', 'STsl', 'STeq']\n",
        "        \n",
        "       # n = 1\n",
        "       # res['st']['combCond'] = []\n",
        "        \n",
        "       # for k in range(len(intCondsST)):\n",
        "       #     for m in range(len(durCondsST)):\n",
        "       #         for j in range(len(accomConds)):\n",
        "       #             if set(conditions[durCondsST[m]]).intersection(conditions[intCondsST[k]]):\n",
        "       #                 res['st'][intCondsST[k] + durCondsST[m] + accomConds[j]] = avm[accomIdx[j], list(set(conditions[durCondsST[m]]).intersection(conditions[intCondsST[k]]))]\n",
        "       #                 res['st']['combCond'].append(intCondsST[k] + accomConds[j] + durCondsST[m])\n",
        "       #                 n += 1\n",
        "    \n",
        "    return res\n"
      ],
      "metadata": {
        "id": "kYO919oevVWo"
      },
      "execution_count": null,
      "outputs": []
    },
    {
      "cell_type": "markdown",
      "source": [
        "# Read CSV files"
      ],
      "metadata": {
        "id": "ehSDd5AHmbcf"
      }
    },
    {
      "cell_type": "code",
      "source": [
        "# open csv files\n",
        "\n",
        "npCSV = list()\n",
        "pCSV = list()\n",
        "\n",
        "for i in range(5):\n",
        "  csv_path1 = \"aveMaria/avmNP%d.csv\" % (i+1)\n",
        "  npCSV = pd.read_csv(csv_path1, header = None)\n",
        "  csv_path2 = \"aveMaria/avmP%d.csv\" % (i+1)\n",
        "  pCSV = pd.read_csv(csv_path2, header = None)"
      ],
      "metadata": {
        "id": "Vje9NTxfEeFq"
      },
      "execution_count": null,
      "outputs": []
    },
    {
      "cell_type": "markdown",
      "source": [
        "Set up conditions for regression"
      ],
      "metadata": {
        "id": "QHNxbsQVmfOO"
      }
    },
    {
      "cell_type": "code",
      "source": [
        "# Semitone interval conditions\n",
        "conditions = {}\n",
        "conditions['LT'] = np.array([10, 27])\n",
        "conditions['ABbup'] = np.array([2, 36, 65, 72])\n",
        "conditions['ABbdn'] = np.array([1, 7, 64, 71])\n",
        "conditions['OSTup'] = np.array([25, 42, 50])\n",
        "conditions['OSTdn'] = np.array([19, 22, 41, 49, 52, 67])\n",
        "conditions['STup'] = np.sort(np.concatenate([conditions['LT'], conditions['ABbup'], conditions['OSTup']]))\n",
        "conditions['STdn'] = np.sort(np.concatenate([conditions['ABbdn'], conditions['OSTdn']]))\n",
        "conditions['STall'] = np.sort(np.concatenate([conditions['STup'], conditions['STdn']]))\n",
        "conditions['STls'] = np.array([1,19,42,71])\n",
        "conditions['STsl'] = np.array([2,10,27,41])\n",
        "conditions['STeq'] = np.array([7,22,25,36,49,50,52,64,65,67,72])\n",
        "\n",
        "conIntsNP=getConditionVals(npCSV.to_numpy(), conditions);\n",
        "conIntsP=getConditionVals(pCSV.to_numpy(), conditions);"
      ],
      "metadata": {
        "id": "QRgHvNvXAlde"
      },
      "execution_count": null,
      "outputs": []
    },
    {
      "cell_type": "markdown",
      "source": [
        "## Run linear regression"
      ],
      "metadata": {
        "id": "twNnSi6omlMG"
      }
    },
    {
      "cell_type": "code",
      "source": [
        "from sklearn.linear_model import LinearRegression\n",
        "# https://scikit-learn.org/stable/modules/generated/sklearn.linear_model.LinearRegression.html\n",
        "# fit(X, y[, sample_weight]) - Fit linear model.\n",
        "# get_params([deep]) - Get parameters for this estimator.\n",
        "# predict(X) - Predict using the linear model.\n",
        "# score(X, y[, sample_weight]) - Return the coefficient of determination of the prediction.\n",
        "# set_params(**params) - Set the parameters of this estimator.\n",
        "\n",
        "# run regression from vector and matrix in csv files\n",
        "import matplotlib.pyplot as plt\n",
        "\n",
        "csv_path3 = \"aveMaria/AVMregressMat.csv\" \n",
        "X = pd.read_csv(csv_path3, header = None)\n",
        "\n",
        "csv_path4 = \"aveMaria/AVMregressVec.csv\" \n",
        "y = pd.read_csv(csv_path4, header = None)\n",
        "\n",
        "reg = LinearRegression().fit(X, y)\n",
        "print(\"R2 = \" + str(reg.score(X, y)))\n",
        "print(\"Regression coefficients = \" + str(reg.coef_))\n",
        "print(reg.intercept_)\n"
      ],
      "metadata": {
        "colab": {
          "base_uri": "https://localhost:8080/"
        },
        "id": "5bW3yemgNTn2",
        "outputId": "28d7537e-c967-467e-ce02-633bf8b66ac9"
      },
      "execution_count": null,
      "outputs": [
        {
          "output_type": "stream",
          "name": "stdout",
          "text": [
            "R2 = 0.2831194551306353\n",
            "Regression coefficients = [[ -7.50696541   3.9873272   13.86190856  20.90297862   7.69337314\n",
            "   -6.75131511   1.88603001 -14.11853515  -9.54105332   9.61832168\n",
            "   -7.08439814   0.        ]]\n",
            "[182.52606731]\n"
          ]
        }
      ]
    },
    {
      "cell_type": "code",
      "source": [
        "import statsmodels.api as sm\n",
        "alpha = 0.05 # 95% confidence interval\n",
        "lr = sm.OLS(y, X).fit()\n",
        "#print(lr.rsquared)\n",
        "#print(lr.rsquared_adj)\n",
        "#print(lr.pvalues)\n",
        "print(lr.f_test)\n",
        "print(lr.conf_int(alpha))"
      ],
      "metadata": {
        "id": "6VFiiI97liJj",
        "colab": {
          "base_uri": "https://localhost:8080/"
        },
        "outputId": "75ac2b01-8fa4-4e21-d046-d64f7a212233"
      },
      "execution_count": null,
      "outputs": [
        {
          "output_type": "stream",
          "name": "stdout",
          "text": [
            "<bound method LikelihoodModelResults.f_test of <statsmodels.regression.linear_model.OLSResults object at 0x7fef87a15850>>\n",
            "             0           1\n",
            "0   -18.422164    3.408233\n",
            "1    -1.292255    9.266909\n",
            "2     6.829142   20.894675\n",
            "3    10.152374   31.653583\n",
            "4     1.074407   14.312340\n",
            "5   -12.263340   -1.239290\n",
            "6    -4.071822    7.843882\n",
            "7   -20.108029   -8.129041\n",
            "8   -15.498906   -3.583201\n",
            "9     3.660469   15.576174\n",
            "10  -12.892325   -1.276471\n",
            "11  172.634390  192.417745\n"
          ]
        }
      ]
    },
    {
      "cell_type": "code",
      "source": [],
      "metadata": {
        "id": "Cw9TwQeb26Sd"
      },
      "execution_count": null,
      "outputs": []
    }
  ]
}