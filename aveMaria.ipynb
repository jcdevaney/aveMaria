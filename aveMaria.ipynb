{
  "nbformat": 4,
  "nbformat_minor": 0,
  "metadata": {
    "colab": {
      "provenance": [],
      "authorship_tag": "ABX9TyP2ZFEKYidEZNvofClzPghT",
      "include_colab_link": true
    },
    "kernelspec": {
      "name": "python3",
      "display_name": "Python 3"
    },
    "language_info": {
      "name": "python"
    }
  },
  "cells": [
    {
      "cell_type": "markdown",
      "metadata": {
        "id": "view-in-github",
        "colab_type": "text"
      },
      "source": [
        "<a href=\"https://colab.research.google.com/github/jcdevaney/aveMaria/blob/main/aveMaria.ipynb\" target=\"_parent\"><img src=\"https://colab.research.google.com/assets/colab-badge.svg\" alt=\"Open In Colab\"/></a>"
      ]
    },
    {
      "cell_type": "markdown",
      "source": [
        "## Import libraries and data"
      ],
      "metadata": {
        "id": "GEpq5n5PmRTL"
      }
    },
    {
      "cell_type": "code",
      "execution_count": null,
      "metadata": {
        "colab": {
          "base_uri": "https://localhost:8080/"
        },
        "id": "p_K_5UP2AML5",
        "outputId": "3a042a35-a7c0-4920-f886-500a3dac6052"
      },
      "outputs": [
        {
          "output_type": "stream",
          "name": "stdout",
          "text": [
            "Cloning into 'aveMaria'...\n",
            "remote: Enumerating objects: 17, done.\u001b[K\n",
            "remote: Counting objects: 100% (17/17), done.\u001b[K\n",
            "remote: Compressing objects: 100% (15/15), done.\u001b[K\n",
            "remote: Total 17 (delta 0), reused 0 (delta 0), pack-reused 0\u001b[K\n",
            "Unpacking objects: 100% (17/17), 19.84 KiB | 700.00 KiB/s, done.\n"
          ]
        }
      ],
      "source": [
        "import numpy as np\n",
        "import pandas as pd\n",
        "\n",
        "#import csv files\n",
        "!git clone https://github.com/jcdevaney/aveMaria.git"
      ]
    },
    {
      "cell_type": "markdown",
      "source": [
        "## Function to sort data into conditions for the regression analysis"
      ],
      "metadata": {
        "id": "7Du8-OcymVAw"
      }
    },
    {
      "cell_type": "code",
      "source": [
        "def getConditionVals(avm, conditions):\n",
        "\n",
        "    res = {}\n",
        "\n",
        "    for i in range(6):\n",
        "\n",
        "        res['st'] = {}\n",
        "\n",
        "        # all semitones\n",
        "        res['st']['allSTupACAP'] = avm[0:3, conditions['STup']]\n",
        "        res['st']['allSTupACCOM'] = avm[3:6, conditions['STup']]\n",
        "        res['st']['allSTdnACAP'] = avm[0:3, conditions['STdn']]\n",
        "        res['st']['allSTdnACCOM'] = avm[3:6, conditions['STdn']]\n",
        " \n",
        "        # semitone conditions\n",
        "        res['st']['ltACAP'] = avm[0:3, conditions['LT']]\n",
        "        res['st']['ltACCOM'] = avm[3:6, conditions['LT']]\n",
        "        res['st']['ABbupACAP'] = avm[0:3, conditions['ABbup']]\n",
        "        res['st']['ABbupACCOM'] = avm[3:6, conditions['ABbup']]\n",
        "        res['st']['ABbdnACAP'] = avm[0:3, conditions['ABbdn']]\n",
        "        res['st']['ABbdnACCOM'] = avm[3:6, conditions['ABbdn']]\n",
        "        res['st']['OSTupACAP'] = avm[0:3, conditions['OSTup']]\n",
        "        res['st']['OSTupACCOM'] = avm[3:6, conditions['OSTup']]\n",
        "        res['st']['OSTdnACAP'] = avm[0:3, conditions['OSTdn']]\n",
        "        res['st']['OSTdnACCOM'] = avm[3:6, conditions['OSTdn']]\n",
        "        res['st']['lsACAP'] = avm[0:3, conditions['STls']]\n",
        "        res['st']['lsACCOM'] = avm[3:6, conditions['STls']]\n",
        "        res['st']['slACAP'] = avm[0:3, conditions['STsl']]\n",
        "        res['st']['slACCOM'] = avm[3:6, conditions['STsl']]\n",
        "        res['st']['eqACAP'] = avm[0:3, conditions['STeq']]\n",
        "        res['st']['eqACCOM'] = avm[3:6, conditions['STeq']]\n",
        "        \n",
        "        accomConds = ['ACAP', 'ACCOM']\n",
        "        accomIdx = [range(3), range(3, 6)]\n",
        "        intCondsST = ['LT', 'ABbup', 'ABbdn', 'OSTup', 'OSTdn']\n",
        "        durCondsST = ['STls', 'STsl', 'STeq']\n",
        "        \n",
        "       # n = 1\n",
        "       # res['st']['combCond'] = []\n",
        "        \n",
        "       # for k in range(len(intCondsST)):\n",
        "       #     for m in range(len(durCondsST)):\n",
        "       #         for j in range(len(accomConds)):\n",
        "       #             if set(conditions[durCondsST[m]]).intersection(conditions[intCondsST[k]]):\n",
        "       #                 res['st'][intCondsST[k] + durCondsST[m] + accomConds[j]] = avm[accomIdx[j], list(set(conditions[durCondsST[m]]).intersection(conditions[intCondsST[k]]))]\n",
        "       #                 res['st']['combCond'].append(intCondsST[k] + accomConds[j] + durCondsST[m])\n",
        "       #                 n += 1\n",
        "    \n",
        "    return res\n"
      ],
      "metadata": {
        "id": "kYO919oevVWo"
      },
      "execution_count": null,
      "outputs": []
    },
    {
      "cell_type": "markdown",
      "source": [
        "# Read CSV files"
      ],
      "metadata": {
        "id": "ehSDd5AHmbcf"
      }
    },
    {
      "cell_type": "code",
      "source": [
        "# open csv files\n",
        "\n",
        "npCSV = list()\n",
        "pCSV = list()\n",
        "\n",
        "for i in range(5):\n",
        "  csv_path1 = \"aveMaria/avmNP%d.csv\" % (i+1)\n",
        "  npCSV = pd.read_csv(csv_path1, header = None)\n",
        "  csv_path2 = \"aveMaria/avmP%d.csv\" % (i+1)\n",
        "  pCSV = pd.read_csv(csv_path2, header = None)"
      ],
      "metadata": {
        "id": "Vje9NTxfEeFq"
      },
      "execution_count": null,
      "outputs": []
    },
    {
      "cell_type": "markdown",
      "source": [
        "Set up conditions for regression"
      ],
      "metadata": {
        "id": "QHNxbsQVmfOO"
      }
    },
    {
      "cell_type": "code",
      "source": [
        "# Semitone interval conditions\n",
        "conditions = {}\n",
        "conditions['LT'] = np.array([10, 27])\n",
        "conditions['ABbup'] = np.array([2, 36, 65, 72])\n",
        "conditions['ABbdn'] = np.array([1, 7, 64, 71])\n",
        "conditions['OSTup'] = np.array([25, 42, 50])\n",
        "conditions['OSTdn'] = np.array([19, 22, 41, 49, 52, 67])\n",
        "conditions['STup'] = np.sort(np.concatenate([conditions['LT'], conditions['ABbup'], conditions['OSTup']]))\n",
        "conditions['STdn'] = np.sort(np.concatenate([conditions['ABbdn'], conditions['OSTdn']]))\n",
        "conditions['STall'] = np.sort(np.concatenate([conditions['STup'], conditions['STdn']]))\n",
        "conditions['STls'] = np.array([1,19,42,71])\n",
        "conditions['STsl'] = np.array([2,10,27,41])\n",
        "conditions['STeq'] = np.array([7,22,25,36,49,50,52,64,65,67,72])\n",
        "\n",
        "conIntsNP=getConditionVals(npCSV.to_numpy(), conditions);\n",
        "conIntsP=getConditionVals(pCSV.to_numpy(), conditions);"
      ],
      "metadata": {
        "id": "QRgHvNvXAlde"
      },
      "execution_count": null,
      "outputs": []
    },
    {
      "cell_type": "markdown",
      "source": [
        "## Run linear regression"
      ],
      "metadata": {
        "id": "twNnSi6omlMG"
      }
    },
    {
      "cell_type": "code",
      "source": [
        "from sklearn.linear_model import LinearRegression\n",
        "# https://scikit-learn.org/stable/modules/generated/sklearn.linear_model.LinearRegression.html\n",
        "# fit(X, y[, sample_weight]) - Fit linear model.\n",
        "# get_params([deep]) - Get parameters for this estimator.\n",
        "# predict(X) - Predict using the linear model.\n",
        "# score(X, y[, sample_weight]) - Return the coefficient of determination of the prediction.\n",
        "# set_params(**params) - Set the parameters of this estimator.\n",
        "\n",
        "X = np.array([[1, 1], [1, 2], [2, 2], [2, 3]])\n",
        "# y = 1 * x_0 + 2 * x_1 + 3\n",
        "y = np.dot(X, np.array([1, 2])) + 3\n",
        "reg = LinearRegression().fit(X, y)\n",
        "print(reg.score(X, y))\n",
        "print(reg.coef_)\n",
        "print(reg.intercept_)"
      ],
      "metadata": {
        "colab": {
          "base_uri": "https://localhost:8080/"
        },
        "id": "5bW3yemgNTn2",
        "outputId": "20a15a7a-cf83-4a59-bc20-953bc99b26f8"
      },
      "execution_count": 25,
      "outputs": [
        {
          "output_type": "stream",
          "name": "stdout",
          "text": [
            "1.0\n",
            "[1. 2.]\n",
            "3.0000000000000018\n"
          ]
        }
      ]
    },
    {
      "cell_type": "code",
      "source": [
        "# https://towardsdatascience.com/anova-test-with-python-cfbf4013328b"
      ],
      "metadata": {
        "id": "6VFiiI97liJj"
      },
      "execution_count": null,
      "outputs": []
    }
  ]
}